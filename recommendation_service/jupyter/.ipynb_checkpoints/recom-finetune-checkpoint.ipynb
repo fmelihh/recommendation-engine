{
 "cells": [
  {
   "cell_type": "code",
   "execution_count": 1,
   "id": "348ebe43-3b5d-47f3-b572-f2326080d39b",
   "metadata": {},
   "outputs": [],
   "source": [
    "import json\n",
    "import requests\n",
    "import pandas as pd"
   ]
  },
  {
   "cell_type": "code",
   "execution_count": 2,
   "id": "98a46a05-dc8d-4f04-9f0c-86bb8a3a2919",
   "metadata": {},
   "outputs": [],
   "source": [
    "api_records = []"
   ]
  },
  {
   "cell_type": "code",
   "execution_count": 3,
   "id": "4dc4a532-2961-4046-b77e-d8242bbed849",
   "metadata": {},
   "outputs": [],
   "source": [
    "page = 1\n",
    "\n",
    "while 1:\n",
    "    url = f\"http://localhost:8000/recommendation_aggregate/recommendation-aggregate-data?page={page}&page_size=100\"\n",
    "    payload = {}\n",
    "    headers = {\n",
    "      'accept': 'application/json'\n",
    "    }\n",
    "    \n",
    "    response = requests.request(\"GET\", url, headers=headers, data=payload)\n",
    "    result = response.json()\n",
    "\n",
    "    if len(result) == 0:\n",
    "        break\n",
    "\n",
    "    api_records.extend(result)\n",
    "    page += 1    "
   ]
  },
  {
   "cell_type": "code",
   "execution_count": 4,
   "id": "cf037e0a-8496-4b68-b3be-2941480a0bc2",
   "metadata": {},
   "outputs": [
    {
     "data": {
      "text/plain": [
       "824"
      ]
     },
     "execution_count": 4,
     "metadata": {},
     "output_type": "execute_result"
    }
   ],
   "source": [
    "len(api_records)"
   ]
  },
  {
   "cell_type": "code",
   "execution_count": null,
   "id": "01d6ea4a-c6b0-4f0c-bb87-ef0bd4992cdf",
   "metadata": {},
   "outputs": [],
   "source": []
  },
  {
   "cell_type": "code",
   "execution_count": 5,
   "id": "bf8edc5d-c1ca-4dca-a364-37ebefa9e153",
   "metadata": {
    "collapsed": true,
    "jupyter": {
     "outputs_hidden": true
    },
    "scrolled": true
   },
   "outputs": [
    {
     "name": "stdout",
     "output_type": "stream",
     "text": [
      "Expecting value: line 1 column 157 (char 156)\n",
      "{\"id\":\"a8a6ffd27fa9b2da2338770c863554b37ffbf983729d253533c7307a95af2f12\",\"restaurant_id\":\"5fe246f923ff893055a771c8\",\"provider\":\"GETIR\",\"rating\":1,\"comment\":\"\\\"Yola çıktı\" yazmasına rağmen tam 2 saat bekledik ve siparişimiz gelmedi !!!\",\"comment_id\":\"668d49cb16ff6ff6ef4b92a3\",\"replies\":[],\"like_count\":0,\"created_at\":\"\",\"updated_at\":\"\",\"version\":1733688239} <class 'str'>\n",
      "Expecting ',' delimiter: line 1 column 269 (char 268)\n",
      "{\"id\":\"2a5cc05ecb9fcc25627be31c7456c7387535235415afdccf20c3ab71dddee9a4\",\"restaurant_id\":\"60097d7df69aa47d89474a17\",\"provider\":\"GETIR\",\"rating\":1,\"comment\":\"sipariş için zile basmayın seçeneğini işaretledim. üstüne birde sipariş notu ekledim \\\"zile kesinlikle basmayın\" diye. işine saygısı olan insanlar bu gibi şeylere dikkat eder. getir uygulamasının da siparişi gönderen işletmenin de işine saygısı yok benim gözümde. siparişlerinizi bu kıstasa göre verirsiniz. umarım yaptığım yorum sipariş verecek kişiler için aydınlatıcı bir yorum olur.\",\"comment_id\":\"66a44a1d89a0acf59fb9d5c8\",\"replies\":[],\"like_count\":0,\"created_at\":\"\",\"updated_at\":\"\",\"version\":1733688239} <class 'str'>\n"
     ]
    }
   ],
   "source": [
    "comment_list = []\n",
    "for element in api_records:\n",
    "    if len(element[\"restaurant_comments\"]) == 0:\n",
    "        continue\n",
    "        \n",
    "    for comment in element[\"restaurant_comments\"]:\n",
    "        try:\n",
    "            if isinstance(comment, str):\n",
    "                comment = json.loads(comment.replace('\\\\\"', \"\").replace('\\\"Yola çıktı\"', '\\\\\"Yola çıktı\\\\\"'))  \n",
    "            comment_list.append(comment)\n",
    "        except Exception as e:\n",
    "            print(e)\n",
    "            print(comment, type(comment))\n",
    "        "
   ]
  },
  {
   "cell_type": "code",
   "execution_count": 6,
   "id": "ed1122c5-0dda-4bfb-9722-90db0dc45f0b",
   "metadata": {},
   "outputs": [],
   "source": [
    "restaurant_list = []\n",
    "for element in api_records:\n",
    "    del element[\"restaurant_comments\"]\n",
    "    del element[\"menu_items\"]\n",
    "    \n",
    "    restaurant_list.append(element)"
   ]
  },
  {
   "cell_type": "code",
   "execution_count": 7,
   "id": "cf842263-af3a-4f6a-b418-00ad046f99d4",
   "metadata": {},
   "outputs": [],
   "source": [
    "comments = pd.DataFrame(comment_list)\n",
    "restaurants = pd.DataFrame(restaurant_list)"
   ]
  },
  {
   "cell_type": "code",
   "execution_count": 8,
   "id": "8dc69e40-7632-4d74-ad63-8259290ad13d",
   "metadata": {},
   "outputs": [],
   "source": [
    "restaurant_map = restaurants.set_index(\"restaurant_id\").to_dict(orient=\"index\")\n",
    "\n",
    "def enrich_comment(row):\n",
    "    restaurant = restaurant_map.get(row[\"restaurant_id\"], {})\n",
    "    return (\n",
    "        f\"passage: Comment: {row['comment']}. \"\n",
    "        f\"Rating: {row['rating']}/5. \"\n",
    "        f\"Restaurant: {restaurant.get('name', '')}, \"\n",
    "        f\"City: {restaurant.get('city', '')}. \"\n",
    "        f\"Restaurant Rating: {restaurant.get('rating', 'N/A')}/5.\"\n",
    "    )\n",
    "\n",
    "comments[\"enriched\"] = comments.apply(enrich_comment, axis=1)\n"
   ]
  },
  {
   "cell_type": "code",
   "execution_count": 9,
   "id": "453534b8-a3fa-4f53-b990-7ea3fe80121d",
   "metadata": {},
   "outputs": [
    {
     "data": {
      "text/plain": [
       "0       passage: Comment: Tavuk aşırı kuruydu. Rating:...\n",
       "1       passage: Comment: Kolamız eksik getirildi geti...\n",
       "2       passage: Comment: Her zamanki gibi zamanında g...\n",
       "3       passage: Comment: Porsiyonlar dolu dolu ve sıc...\n",
       "4       passage: Comment: sürekli yediğimiz yer gayet ...\n",
       "                              ...                        \n",
       "1260    passage: Comment: başak kır pidesi.. dükkanın ...\n",
       "1261    passage: Comment: benim siparişim gelmedi ..ba...\n",
       "1262    passage: Comment: tavuklu pide biraz acı bilhi...\n",
       "1263    passage: Comment: tek kelimeyle muhteşem. Rati...\n",
       "1264    passage: Comment: Hem paramı aldı bu işletme h...\n",
       "Name: enriched, Length: 1265, dtype: object"
      ]
     },
     "execution_count": 9,
     "metadata": {},
     "output_type": "execute_result"
    }
   ],
   "source": [
    "comments[\"enriched\"]"
   ]
  },
  {
   "cell_type": "code",
   "execution_count": null,
   "id": "36455c9f-daf2-4ddd-bba0-0945784375b9",
   "metadata": {},
   "outputs": [],
   "source": []
  },
  {
   "cell_type": "code",
   "execution_count": null,
   "id": "3b0a68a5-0fd8-490d-ba04-721af37b37f1",
   "metadata": {},
   "outputs": [],
   "source": []
  },
  {
   "cell_type": "code",
   "execution_count": 10,
   "id": "5c03dccb-73dc-4a0f-af8c-cfeedc3157c3",
   "metadata": {},
   "outputs": [
    {
     "data": {
      "application/vnd.jupyter.widget-view+json": {
       "model_id": "c2289570ef91487083c4a773938a0687",
       "version_major": 2,
       "version_minor": 0
      },
      "text/plain": [
       "modules.json:   0%|          | 0.00/387 [00:00<?, ?B/s]"
      ]
     },
     "metadata": {},
     "output_type": "display_data"
    },
    {
     "data": {
      "application/vnd.jupyter.widget-view+json": {
       "model_id": "56b75a36e26d413a9bf5b2df8a87dea3",
       "version_major": 2,
       "version_minor": 0
      },
      "text/plain": [
       "README.md:   0%|          | 0.00/179k [00:00<?, ?B/s]"
      ]
     },
     "metadata": {},
     "output_type": "display_data"
    },
    {
     "data": {
      "application/vnd.jupyter.widget-view+json": {
       "model_id": "c12988fba8c04ea79c3550dfeef558fa",
       "version_major": 2,
       "version_minor": 0
      },
      "text/plain": [
       "sentence_bert_config.json:   0%|          | 0.00/57.0 [00:00<?, ?B/s]"
      ]
     },
     "metadata": {},
     "output_type": "display_data"
    },
    {
     "data": {
      "application/vnd.jupyter.widget-view+json": {
       "model_id": "b6652eceadcd4ec98c7aa55a8513f118",
       "version_major": 2,
       "version_minor": 0
      },
      "text/plain": [
       "config.json:   0%|          | 0.00/694 [00:00<?, ?B/s]"
      ]
     },
     "metadata": {},
     "output_type": "display_data"
    },
    {
     "data": {
      "application/vnd.jupyter.widget-view+json": {
       "model_id": "94de2d34e3e5456185034074bb4e91d7",
       "version_major": 2,
       "version_minor": 0
      },
      "text/plain": [
       "model.safetensors:   0%|          | 0.00/1.11G [00:00<?, ?B/s]"
      ]
     },
     "metadata": {},
     "output_type": "display_data"
    },
    {
     "data": {
      "application/vnd.jupyter.widget-view+json": {
       "model_id": "b8543bc490734fa2849abf8c18874649",
       "version_major": 2,
       "version_minor": 0
      },
      "text/plain": [
       "tokenizer_config.json:   0%|          | 0.00/418 [00:00<?, ?B/s]"
      ]
     },
     "metadata": {},
     "output_type": "display_data"
    },
    {
     "data": {
      "application/vnd.jupyter.widget-view+json": {
       "model_id": "5fe93e3e4073478fb89b98408987d856",
       "version_major": 2,
       "version_minor": 0
      },
      "text/plain": [
       "sentencepiece.bpe.model:   0%|          | 0.00/5.07M [00:00<?, ?B/s]"
      ]
     },
     "metadata": {},
     "output_type": "display_data"
    },
    {
     "data": {
      "application/vnd.jupyter.widget-view+json": {
       "model_id": "846da644c7c74d9ea80c6bf7af933979",
       "version_major": 2,
       "version_minor": 0
      },
      "text/plain": [
       "tokenizer.json:   0%|          | 0.00/17.1M [00:00<?, ?B/s]"
      ]
     },
     "metadata": {},
     "output_type": "display_data"
    },
    {
     "data": {
      "application/vnd.jupyter.widget-view+json": {
       "model_id": "0f07559126bc43f89740057b8ccd74ab",
       "version_major": 2,
       "version_minor": 0
      },
      "text/plain": [
       "special_tokens_map.json:   0%|          | 0.00/280 [00:00<?, ?B/s]"
      ]
     },
     "metadata": {},
     "output_type": "display_data"
    },
    {
     "data": {
      "application/vnd.jupyter.widget-view+json": {
       "model_id": "8d3b3a0c05aa4d45bf2921aefef7b6b9",
       "version_major": 2,
       "version_minor": 0
      },
      "text/plain": [
       "config.json:   0%|          | 0.00/200 [00:00<?, ?B/s]"
      ]
     },
     "metadata": {},
     "output_type": "display_data"
    }
   ],
   "source": [
    "from sentence_transformers import SentenceTransformer\n",
    "\n",
    "model = SentenceTransformer(\"intfloat/multilingual-e5-base\")\n",
    "\n",
    "embeddings = model.encode(comments[\"enriched\"].tolist(), normalize_embeddings=True)"
   ]
  },
  {
   "cell_type": "code",
   "execution_count": 21,
   "id": "28231399-0fa9-4afa-af6d-7ca2abf6cb2f",
   "metadata": {},
   "outputs": [],
   "source": [
    "from sklearn.metrics.pairwise import cosine_similarity\n",
    "import numpy as np\n",
    "\n",
    "def semantic_search(query, embeddings, top_k=3):\n",
    "    query_embedding = model.encode(f\"query: {query}\", normalize_embeddings=True)\n",
    "    similarities = cosine_similarity([query_embedding], embeddings)[0]\n",
    "    top_indices = np.argsort(similarities)[-top_k:][::-1]\n",
    "    return [(comments.iloc[i], similarities[i]) for i in top_indices]\n"
   ]
  },
  {
   "cell_type": "code",
   "execution_count": null,
   "id": "61077fd6-21b0-477f-986e-d757358036ef",
   "metadata": {},
   "outputs": [],
   "source": []
  },
  {
   "cell_type": "code",
   "execution_count": 27,
   "id": "f04063c7-9c1a-414b-a6db-898118d431d8",
   "metadata": {},
   "outputs": [
    {
     "name": "stdout",
     "output_type": "stream",
     "text": [
      "Pul biber koymayın dediğim halde koyulmuştu. Aşırı geç geldi. Mağdur oldum. Ekmeği de bayattı\n",
      "Çilekli magnolia sipariş etmiştim ama muzlu çıktı❌Ürün elinizde yoksa müşteriyi aramalı ya da siparişi iptal etmelisiniz😕Ayrıca muzları kararmış yumuşamıştı, tatlının tadı güzel gelmedi bana 👎🏻\n",
      "keske catal da gonderselerdi daha rahat yiyebilirdim, muhtemelen unuttular zaten cok sorun degil ama unutulmasa daha iyiydi. onun disinda lezzeti gayet yerindeydi\n",
      "kurye pos cihazını unuttu, uğrayacağını söyledikten sonra saatlerce beni bekletti\n",
      "LEZZET GÜZEL FAKAT MİKTAR O KADAR AZ Kİ. TADIMLIK SANKİ\n",
      "soğan istemiştim gelmedi\n",
      "Dürüm soğuk geldi üstelik baharatlar çok yoğundu.\n",
      "gerçekten süperdi elinize sağlık. ciğer dürüm menüyü asla bozmayın. en kısa zamanda yine sipariş vericem\n",
      "mercimek soledik ezo gelin geldi yoksa arayip bilgi verilmesi gerek ya\n",
      "Kuryeniz kabaydı. Saygısızca konuştu\n",
      "Kuzu ciğer yerine dana ciğer geldi , tadı berbattı , yemesi işkence gibiydi\n",
      "1.5 saatte geldi ve buz gibiydi .!\n",
      "Posrsiyon büyük fakat pek lezzetli bulmadim. Bir de plastik catal istemiyorum dememe ragmen gene de gönderilmiş.\n",
      "Elinde kalan cope gondermesi gereken patatesleri gonderdiler\n",
      "salatadaki domatesler bozulmuştu maalesef. gerek yok bence sağlıktan olmaya işimiz gücümüz var muhafaza edemiyorsanız koymazsınız olur biter\n"
     ]
    }
   ],
   "source": [
    "results = semantic_search(\"miğdem bulandı\", embeddings, top_k=15)\n",
    "print('\\n'.join([res[0][\"comment\"] for res in results]))"
   ]
  },
  {
   "cell_type": "code",
   "execution_count": null,
   "id": "eaa507a6-e865-40d0-84fd-984b1eaf16fc",
   "metadata": {},
   "outputs": [],
   "source": [
    "cases = [\n",
    "    \"servis kısmen iyiydi\",\n",
    "    \"kurye geç geldi\",\n",
    "    \"miğdem bulandı\"\n",
    "]"
   ]
  }
 ],
 "metadata": {
  "kernelspec": {
   "display_name": "Python 3 (ipykernel)",
   "language": "python",
   "name": "python3"
  },
  "language_info": {
   "codemirror_mode": {
    "name": "ipython",
    "version": 3
   },
   "file_extension": ".py",
   "mimetype": "text/x-python",
   "name": "python",
   "nbconvert_exporter": "python",
   "pygments_lexer": "ipython3",
   "version": "3.11.8"
  }
 },
 "nbformat": 4,
 "nbformat_minor": 5
}
